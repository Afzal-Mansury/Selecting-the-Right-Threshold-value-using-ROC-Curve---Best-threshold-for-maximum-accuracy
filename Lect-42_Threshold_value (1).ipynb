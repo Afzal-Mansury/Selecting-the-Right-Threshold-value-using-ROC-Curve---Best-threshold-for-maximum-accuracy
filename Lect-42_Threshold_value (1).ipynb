{
 "cells": [
  {
   "cell_type": "markdown",
   "metadata": {},
   "source": [
    "# Selecting the Right Threshold value using ROC Curve"
   ]
  },
  {
   "cell_type": "code",
   "execution_count": 1,
   "metadata": {},
   "outputs": [],
   "source": [
    "import pandas as pd \n",
    "import numpy as np\n",
    "import matplotlib.pyplot as plt\n",
    "%matplotlib inline\n",
    "import seaborn as sns\n",
    "# ROC curve and auc Curve\n",
    "from sklearn.datasets import make_classification "
   ]
  },
  {
   "cell_type": "code",
   "execution_count": 2,
   "metadata": {},
   "outputs": [],
   "source": [
    "from sklearn.model_selection import train_test_split\n",
    "X,y = make_classification(n_samples=2000, n_classes=2,\n",
    "                         weights=[1,1], random_state=1)"
   ]
  },
  {
   "cell_type": "code",
   "execution_count": 3,
   "metadata": {},
   "outputs": [
    {
     "name": "stdout",
     "output_type": "stream",
     "text": [
      "(2000, 20)\n",
      "(2000,)\n"
     ]
    }
   ],
   "source": [
    "print(X.shape)\n",
    "print(y.shape)"
   ]
  },
  {
   "cell_type": "code",
   "execution_count": 4,
   "metadata": {},
   "outputs": [],
   "source": [
    "from sklearn.model_selection import train_test_split\n",
    "X_train, X_test, y_train, y_test = train_test_split(X, y, test_size=0.33, random_state=1)"
   ]
  },
  {
   "cell_type": "code",
   "execution_count": 5,
   "metadata": {},
   "outputs": [],
   "source": [
    "from sklearn.metrics import roc_curve\n",
    "from sklearn.metrics import roc_auc_score"
   ]
  },
  {
   "cell_type": "markdown",
   "metadata": {},
   "source": [
    "#Random Forest"
   ]
  },
  {
   "cell_type": "code",
   "execution_count": 6,
   "metadata": {},
   "outputs": [
    {
     "name": "stdout",
     "output_type": "stream",
     "text": [
      "Rf train roc-auc:1.0\n",
      "Rf test roc-auc:0.9828579038242534\n"
     ]
    }
   ],
   "source": [
    "## Applying Random Forest Classifier\n",
    "from sklearn.ensemble import RandomForestClassifier\n",
    "#model\n",
    "rf_model = RandomForestClassifier()\n",
    "rf_model.fit(X_train,y_train)\n",
    "#prediction on train\n",
    "ytrain_pred = rf_model.predict_proba(X_train)\n",
    "print(\"Rf train roc-auc:{}\".format(roc_auc_score(y_train,ytrain_pred[:,1])))\n",
    "# preddiction on test \n",
    "ytest_pred = rf_model.predict_proba(X_test)\n",
    "print(\"Rf test roc-auc:{}\".format(roc_auc_score(y_test,ytest_pred[:,1])))"
   ]
  },
  {
   "cell_type": "code",
   "execution_count": 7,
   "metadata": {},
   "outputs": [
    {
     "data": {
      "text/plain": [
       "array([[0.21, 0.79],\n",
       "       [0.99, 0.01],\n",
       "       [0.99, 0.01],\n",
       "       ...,\n",
       "       [0.98, 0.02],\n",
       "       [0.98, 0.02],\n",
       "       [0.32, 0.68]])"
      ]
     },
     "execution_count": 7,
     "metadata": {},
     "output_type": "execute_result"
    }
   ],
   "source": [
    "ytrain_pred = rf_model.predict_proba(X_train)\n",
    "ytrain_pred"
   ]
  },
  {
   "cell_type": "code",
   "execution_count": 8,
   "metadata": {},
   "outputs": [
    {
     "name": "stdout",
     "output_type": "stream",
     "text": [
      "[[0.05 0.95]\n",
      " [1.   0.  ]\n",
      " [0.06 0.94]\n",
      " ...\n",
      " [0.02 0.98]\n",
      " [0.92 0.08]\n",
      " [0.97 0.03]]\n"
     ]
    }
   ],
   "source": [
    "print(ytest_pred)"
   ]
  },
  {
   "cell_type": "markdown",
   "metadata": {},
   "source": [
    "#Logistic Regression"
   ]
  },
  {
   "cell_type": "code",
   "execution_count": 9,
   "metadata": {},
   "outputs": [
    {
     "name": "stdout",
     "output_type": "stream",
     "text": [
      "Logistic train roc-auc curver: 0.986055506170199\n",
      "Logistic test roc-auc curve: 0.989208699166085\n"
     ]
    }
   ],
   "source": [
    "from sklearn.linear_model import LogisticRegression\n",
    "log_classifier = LogisticRegression()\n",
    "log_classifier.fit(X_train,y_train)\n",
    "# Predcition on Train\n",
    "ytrain_pred = log_classifier.predict_proba(X_train)\n",
    "print(\"Logistic train roc-auc curver: {}\".format(roc_auc_score(y_train,ytrain_pred[:,1])))\n",
    "# Predictio on Test\n",
    "ytest_pred = log_classifier.predict_proba(X_test)\n",
    "print(\"Logistic test roc-auc curve: {}\".format(roc_auc_score(y_test,ytest_pred[:,1])))"
   ]
  },
  {
   "cell_type": "markdown",
   "metadata": {},
   "source": [
    "#Adaboost Classifier"
   ]
  },
  {
   "cell_type": "code",
   "execution_count": 37,
   "metadata": {},
   "outputs": [
    {
     "name": "stdout",
     "output_type": "stream",
     "text": [
      "Adaboost train roc-auc: 0.9979235871146549\n",
      "Adaboost test roc-auc :0.9807960765585394\n"
     ]
    }
   ],
   "source": [
    "from sklearn.ensemble import AdaBoostClassifier\n",
    "ada_classifier = AdaBoostClassifier()\n",
    "ada_classifier.fit(X_train,y_train)\n",
    "\n",
    "# Prediction on Train\n",
    "ytrain_pred = ada_classifier.predict_proba(X_train)\n",
    "print(\"Adaboost train roc-auc: {}\".format(roc_auc_score(y_train,ytrain_pred[:,1])))\n",
    "\n",
    "# Prediction on Test\n",
    "ytest_pred = ada_classifier.predict_proba(X_test)\n",
    "print(\"Adaboost test roc-auc :{}\".format(roc_auc_score(y_test,ytest_pred[:,1])))"
   ]
  },
  {
   "cell_type": "markdown",
   "metadata": {},
   "source": [
    "# KNN CLassifier"
   ]
  },
  {
   "cell_type": "code",
   "execution_count": 38,
   "metadata": {},
   "outputs": [
    {
     "name": "stdout",
     "output_type": "stream",
     "text": [
      "Adaboost train roc-auc :0.9805269454674268\n",
      "Adaboost test roc-auc :0.9443077036111827\n"
     ]
    }
   ],
   "source": [
    "from sklearn.neighbors import KNeighborsClassifier\n",
    "knn_classifier = KNeighborsClassifier()\n",
    "knn_classifier.fit(X_train,y_train)\n",
    "# Prediction on train\n",
    "ytrain_pred = knn_classifier.predict_proba(X_train)\n",
    "print(\"Adaboost train roc-auc :{}\".format(roc_auc_score(y_train,ytrain_pred[:,1])))\n",
    "\n",
    "# Prediction on test\n",
    "ytest_pred = knn_classifier.predict_proba(X_test)\n",
    "print(\"Adaboost test roc-auc :{}\".format(roc_auc_score(y_test,ytest_pred[:,1])))"
   ]
  },
  {
   "cell_type": "markdown",
   "metadata": {},
   "source": [
    "#No we will focus on selecting the best threshold for maximum accuracy"
   ]
  },
  {
   "cell_type": "code",
   "execution_count": 39,
   "metadata": {},
   "outputs": [
    {
     "name": "stdout",
     "output_type": "stream",
     "text": [
      "Ensemble test roc-auc: 0.9852870945226112\n"
     ]
    }
   ],
   "source": [
    "pred = []\n",
    "for model in [rf_model, log_classifier, ada_classifier,knn_classifier]:\n",
    "    pred.append(pd.Series(model.predict_proba(X_test)[:,1]))\n",
    "final_prediction = pd.concat(pred, axis=1).mean(axis=1)\n",
    "print(\"Ensemble test roc-auc: {}\".format(roc_auc_score(y_test, final_prediction)))"
   ]
  },
  {
   "cell_type": "code",
   "execution_count": 40,
   "metadata": {},
   "outputs": [
    {
     "data": {
      "text/html": [
       "<div>\n",
       "<style scoped>\n",
       "    .dataframe tbody tr th:only-of-type {\n",
       "        vertical-align: middle;\n",
       "    }\n",
       "\n",
       "    .dataframe tbody tr th {\n",
       "        vertical-align: top;\n",
       "    }\n",
       "\n",
       "    .dataframe thead th {\n",
       "        text-align: right;\n",
       "    }\n",
       "</style>\n",
       "<table border=\"1\" class=\"dataframe\">\n",
       "  <thead>\n",
       "    <tr style=\"text-align: right;\">\n",
       "      <th></th>\n",
       "      <th>0</th>\n",
       "      <th>1</th>\n",
       "      <th>2</th>\n",
       "      <th>3</th>\n",
       "    </tr>\n",
       "  </thead>\n",
       "  <tbody>\n",
       "    <tr>\n",
       "      <td>0</td>\n",
       "      <td>0.97</td>\n",
       "      <td>0.991855</td>\n",
       "      <td>0.568678</td>\n",
       "      <td>1.0</td>\n",
       "    </tr>\n",
       "    <tr>\n",
       "      <td>1</td>\n",
       "      <td>0.00</td>\n",
       "      <td>0.000008</td>\n",
       "      <td>0.452677</td>\n",
       "      <td>0.0</td>\n",
       "    </tr>\n",
       "    <tr>\n",
       "      <td>2</td>\n",
       "      <td>0.96</td>\n",
       "      <td>0.963785</td>\n",
       "      <td>0.529893</td>\n",
       "      <td>0.8</td>\n",
       "    </tr>\n",
       "    <tr>\n",
       "      <td>3</td>\n",
       "      <td>0.96</td>\n",
       "      <td>0.735749</td>\n",
       "      <td>0.509372</td>\n",
       "      <td>0.8</td>\n",
       "    </tr>\n",
       "    <tr>\n",
       "      <td>4</td>\n",
       "      <td>0.60</td>\n",
       "      <td>0.764770</td>\n",
       "      <td>0.492850</td>\n",
       "      <td>0.4</td>\n",
       "    </tr>\n",
       "    <tr>\n",
       "      <td>...</td>\n",
       "      <td>...</td>\n",
       "      <td>...</td>\n",
       "      <td>...</td>\n",
       "      <td>...</td>\n",
       "    </tr>\n",
       "    <tr>\n",
       "      <td>655</td>\n",
       "      <td>0.01</td>\n",
       "      <td>0.004250</td>\n",
       "      <td>0.447648</td>\n",
       "      <td>0.0</td>\n",
       "    </tr>\n",
       "    <tr>\n",
       "      <td>656</td>\n",
       "      <td>0.09</td>\n",
       "      <td>0.000017</td>\n",
       "      <td>0.466408</td>\n",
       "      <td>0.0</td>\n",
       "    </tr>\n",
       "    <tr>\n",
       "      <td>657</td>\n",
       "      <td>0.98</td>\n",
       "      <td>0.971803</td>\n",
       "      <td>0.539953</td>\n",
       "      <td>0.8</td>\n",
       "    </tr>\n",
       "    <tr>\n",
       "      <td>658</td>\n",
       "      <td>0.05</td>\n",
       "      <td>0.006152</td>\n",
       "      <td>0.455522</td>\n",
       "      <td>0.4</td>\n",
       "    </tr>\n",
       "    <tr>\n",
       "      <td>659</td>\n",
       "      <td>0.00</td>\n",
       "      <td>0.002931</td>\n",
       "      <td>0.445439</td>\n",
       "      <td>0.0</td>\n",
       "    </tr>\n",
       "  </tbody>\n",
       "</table>\n",
       "<p>660 rows × 4 columns</p>\n",
       "</div>"
      ],
      "text/plain": [
       "        0         1         2    3\n",
       "0    0.97  0.991855  0.568678  1.0\n",
       "1    0.00  0.000008  0.452677  0.0\n",
       "2    0.96  0.963785  0.529893  0.8\n",
       "3    0.96  0.735749  0.509372  0.8\n",
       "4    0.60  0.764770  0.492850  0.4\n",
       "..    ...       ...       ...  ...\n",
       "655  0.01  0.004250  0.447648  0.0\n",
       "656  0.09  0.000017  0.466408  0.0\n",
       "657  0.98  0.971803  0.539953  0.8\n",
       "658  0.05  0.006152  0.455522  0.4\n",
       "659  0.00  0.002931  0.445439  0.0\n",
       "\n",
       "[660 rows x 4 columns]"
      ]
     },
     "execution_count": 40,
     "metadata": {},
     "output_type": "execute_result"
    }
   ],
   "source": [
    "pd.concat(pred,axis=1)"
   ]
  },
  {
   "cell_type": "code",
   "execution_count": 41,
   "metadata": {},
   "outputs": [
    {
     "data": {
      "text/plain": [
       "0      0.882633\n",
       "1      0.113171\n",
       "2      0.813420\n",
       "3      0.751280\n",
       "4      0.564405\n",
       "         ...   \n",
       "655    0.115474\n",
       "656    0.139106\n",
       "657    0.822939\n",
       "658    0.227919\n",
       "659    0.112093\n",
       "Length: 660, dtype: float64"
      ]
     },
     "execution_count": 41,
     "metadata": {},
     "output_type": "execute_result"
    }
   ],
   "source": [
    "final_prediction"
   ]
  },
  {
   "cell_type": "code",
   "execution_count": 43,
   "metadata": {},
   "outputs": [
    {
     "data": {
      "text/plain": [
       "array([1.91273077, 0.91273077, 0.90541898, 0.90537369, 0.81337797,\n",
       "       0.81285026, 0.80175586, 0.79894228, 0.78919243, 0.7884447 ,\n",
       "       0.78685335, 0.78556826, 0.7185553 , 0.71850059, 0.70168956,\n",
       "       0.6998772 , 0.67296816, 0.67274553, 0.6698942 , 0.66272292,\n",
       "       0.65807902, 0.64073416, 0.62681665, 0.61881302, 0.61579966,\n",
       "       0.6150757 , 0.58835628, 0.58485844, 0.5792391 , 0.57654677,\n",
       "       0.56440483, 0.56147596, 0.54982201, 0.54469806, 0.53979658,\n",
       "       0.53307772, 0.52879817, 0.49097267, 0.47964085, 0.47394204,\n",
       "       0.43993358, 0.43496533, 0.43096711, 0.35844322, 0.35593429,\n",
       "       0.24541049, 0.24352006, 0.21820972, 0.21693412, 0.21121038,\n",
       "       0.20921979, 0.12264772, 0.12249627, 0.10276731])"
      ]
     },
     "execution_count": 43,
     "metadata": {},
     "output_type": "execute_result"
    }
   ],
   "source": [
    "# Calculate the ROC Curve\n",
    "fpr , tpr , thresholds = roc_curve(y_test, final_prediction)\n",
    "thresholds"
   ]
  },
  {
   "cell_type": "code",
   "execution_count": 45,
   "metadata": {},
   "outputs": [
    {
     "data": {
      "text/html": [
       "<div>\n",
       "<style scoped>\n",
       "    .dataframe tbody tr th:only-of-type {\n",
       "        vertical-align: middle;\n",
       "    }\n",
       "\n",
       "    .dataframe tbody tr th {\n",
       "        vertical-align: top;\n",
       "    }\n",
       "\n",
       "    .dataframe thead th {\n",
       "        text-align: right;\n",
       "    }\n",
       "</style>\n",
       "<table border=\"1\" class=\"dataframe\">\n",
       "  <thead>\n",
       "    <tr style=\"text-align: right;\">\n",
       "      <th></th>\n",
       "      <th>Tresholds</th>\n",
       "      <th>Accuracy</th>\n",
       "    </tr>\n",
       "  </thead>\n",
       "  <tbody>\n",
       "    <tr>\n",
       "      <td>41</td>\n",
       "      <td>0.434965</td>\n",
       "      <td>0.960606</td>\n",
       "    </tr>\n",
       "    <tr>\n",
       "      <td>40</td>\n",
       "      <td>0.439934</td>\n",
       "      <td>0.960606</td>\n",
       "    </tr>\n",
       "    <tr>\n",
       "      <td>42</td>\n",
       "      <td>0.430967</td>\n",
       "      <td>0.959091</td>\n",
       "    </tr>\n",
       "    <tr>\n",
       "      <td>39</td>\n",
       "      <td>0.473942</td>\n",
       "      <td>0.959091</td>\n",
       "    </tr>\n",
       "    <tr>\n",
       "      <td>37</td>\n",
       "      <td>0.490973</td>\n",
       "      <td>0.959091</td>\n",
       "    </tr>\n",
       "  </tbody>\n",
       "</table>\n",
       "</div>"
      ],
      "text/plain": [
       "    Tresholds  Accuracy\n",
       "41   0.434965  0.960606\n",
       "40   0.439934  0.960606\n",
       "42   0.430967  0.959091\n",
       "39   0.473942  0.959091\n",
       "37   0.490973  0.959091"
      ]
     },
     "execution_count": 45,
     "metadata": {},
     "output_type": "execute_result"
    }
   ],
   "source": [
    "from sklearn.metrics import accuracy_score\n",
    "accuracy_ls = []\n",
    "for thres in thresholds:\n",
    "    y_pred = np.where(final_prediction>thres,1,0)\n",
    "    accuracy_ls.append(accuracy_score(y_test,y_pred,normalize = True))\n",
    "    \n",
    "accuracy_ls = pd.concat([pd.Series(thresholds), pd.Series(accuracy_ls)],axis =1)\n",
    "accuracy_ls.columns = [\"Tresholds\", \"Accuracy\"]\n",
    "accuracy_ls.sort_values(by=\"Accuracy\", ascending = False, inplace = True)\n",
    "accuracy_ls.head()"
   ]
  },
  {
   "cell_type": "code",
   "execution_count": 46,
   "metadata": {},
   "outputs": [
    {
     "data": {
      "text/html": [
       "<div>\n",
       "<style scoped>\n",
       "    .dataframe tbody tr th:only-of-type {\n",
       "        vertical-align: middle;\n",
       "    }\n",
       "\n",
       "    .dataframe tbody tr th {\n",
       "        vertical-align: top;\n",
       "    }\n",
       "\n",
       "    .dataframe thead th {\n",
       "        text-align: right;\n",
       "    }\n",
       "</style>\n",
       "<table border=\"1\" class=\"dataframe\">\n",
       "  <thead>\n",
       "    <tr style=\"text-align: right;\">\n",
       "      <th></th>\n",
       "      <th>Tresholds</th>\n",
       "      <th>Accuracy</th>\n",
       "    </tr>\n",
       "  </thead>\n",
       "  <tbody>\n",
       "    <tr>\n",
       "      <td>41</td>\n",
       "      <td>0.434965</td>\n",
       "      <td>0.960606</td>\n",
       "    </tr>\n",
       "    <tr>\n",
       "      <td>40</td>\n",
       "      <td>0.439934</td>\n",
       "      <td>0.960606</td>\n",
       "    </tr>\n",
       "    <tr>\n",
       "      <td>42</td>\n",
       "      <td>0.430967</td>\n",
       "      <td>0.959091</td>\n",
       "    </tr>\n",
       "    <tr>\n",
       "      <td>39</td>\n",
       "      <td>0.473942</td>\n",
       "      <td>0.959091</td>\n",
       "    </tr>\n",
       "    <tr>\n",
       "      <td>37</td>\n",
       "      <td>0.490973</td>\n",
       "      <td>0.959091</td>\n",
       "    </tr>\n",
       "    <tr>\n",
       "      <td>35</td>\n",
       "      <td>0.533078</td>\n",
       "      <td>0.959091</td>\n",
       "    </tr>\n",
       "    <tr>\n",
       "      <td>36</td>\n",
       "      <td>0.528798</td>\n",
       "      <td>0.957576</td>\n",
       "    </tr>\n",
       "    <tr>\n",
       "      <td>38</td>\n",
       "      <td>0.479641</td>\n",
       "      <td>0.957576</td>\n",
       "    </tr>\n",
       "    <tr>\n",
       "      <td>34</td>\n",
       "      <td>0.539797</td>\n",
       "      <td>0.957576</td>\n",
       "    </tr>\n",
       "    <tr>\n",
       "      <td>33</td>\n",
       "      <td>0.544698</td>\n",
       "      <td>0.957576</td>\n",
       "    </tr>\n",
       "    <tr>\n",
       "      <td>31</td>\n",
       "      <td>0.561476</td>\n",
       "      <td>0.956061</td>\n",
       "    </tr>\n",
       "    <tr>\n",
       "      <td>32</td>\n",
       "      <td>0.549822</td>\n",
       "      <td>0.956061</td>\n",
       "    </tr>\n",
       "    <tr>\n",
       "      <td>30</td>\n",
       "      <td>0.564405</td>\n",
       "      <td>0.954545</td>\n",
       "    </tr>\n",
       "    <tr>\n",
       "      <td>29</td>\n",
       "      <td>0.576547</td>\n",
       "      <td>0.950000</td>\n",
       "    </tr>\n",
       "    <tr>\n",
       "      <td>28</td>\n",
       "      <td>0.579239</td>\n",
       "      <td>0.948485</td>\n",
       "    </tr>\n",
       "    <tr>\n",
       "      <td>27</td>\n",
       "      <td>0.584858</td>\n",
       "      <td>0.948485</td>\n",
       "    </tr>\n",
       "    <tr>\n",
       "      <td>26</td>\n",
       "      <td>0.588356</td>\n",
       "      <td>0.946970</td>\n",
       "    </tr>\n",
       "    <tr>\n",
       "      <td>43</td>\n",
       "      <td>0.358443</td>\n",
       "      <td>0.943939</td>\n",
       "    </tr>\n",
       "    <tr>\n",
       "      <td>23</td>\n",
       "      <td>0.618813</td>\n",
       "      <td>0.942424</td>\n",
       "    </tr>\n",
       "    <tr>\n",
       "      <td>44</td>\n",
       "      <td>0.355934</td>\n",
       "      <td>0.942424</td>\n",
       "    </tr>\n",
       "    <tr>\n",
       "      <td>25</td>\n",
       "      <td>0.615076</td>\n",
       "      <td>0.942424</td>\n",
       "    </tr>\n",
       "    <tr>\n",
       "      <td>21</td>\n",
       "      <td>0.640734</td>\n",
       "      <td>0.940909</td>\n",
       "    </tr>\n",
       "    <tr>\n",
       "      <td>24</td>\n",
       "      <td>0.615800</td>\n",
       "      <td>0.940909</td>\n",
       "    </tr>\n",
       "    <tr>\n",
       "      <td>22</td>\n",
       "      <td>0.626817</td>\n",
       "      <td>0.940909</td>\n",
       "    </tr>\n",
       "    <tr>\n",
       "      <td>20</td>\n",
       "      <td>0.658079</td>\n",
       "      <td>0.939394</td>\n",
       "    </tr>\n",
       "    <tr>\n",
       "      <td>19</td>\n",
       "      <td>0.662723</td>\n",
       "      <td>0.939394</td>\n",
       "    </tr>\n",
       "    <tr>\n",
       "      <td>18</td>\n",
       "      <td>0.669894</td>\n",
       "      <td>0.937879</td>\n",
       "    </tr>\n",
       "    <tr>\n",
       "      <td>17</td>\n",
       "      <td>0.672746</td>\n",
       "      <td>0.936364</td>\n",
       "    </tr>\n",
       "    <tr>\n",
       "      <td>16</td>\n",
       "      <td>0.672968</td>\n",
       "      <td>0.934848</td>\n",
       "    </tr>\n",
       "    <tr>\n",
       "      <td>15</td>\n",
       "      <td>0.699877</td>\n",
       "      <td>0.918182</td>\n",
       "    </tr>\n",
       "    <tr>\n",
       "      <td>14</td>\n",
       "      <td>0.701690</td>\n",
       "      <td>0.916667</td>\n",
       "    </tr>\n",
       "    <tr>\n",
       "      <td>13</td>\n",
       "      <td>0.718501</td>\n",
       "      <td>0.906061</td>\n",
       "    </tr>\n",
       "    <tr>\n",
       "      <td>12</td>\n",
       "      <td>0.718555</td>\n",
       "      <td>0.904545</td>\n",
       "    </tr>\n",
       "    <tr>\n",
       "      <td>45</td>\n",
       "      <td>0.245410</td>\n",
       "      <td>0.887879</td>\n",
       "    </tr>\n",
       "    <tr>\n",
       "      <td>46</td>\n",
       "      <td>0.243520</td>\n",
       "      <td>0.886364</td>\n",
       "    </tr>\n",
       "    <tr>\n",
       "      <td>47</td>\n",
       "      <td>0.218210</td>\n",
       "      <td>0.857576</td>\n",
       "    </tr>\n",
       "    <tr>\n",
       "      <td>48</td>\n",
       "      <td>0.216934</td>\n",
       "      <td>0.856061</td>\n",
       "    </tr>\n",
       "    <tr>\n",
       "      <td>49</td>\n",
       "      <td>0.211210</td>\n",
       "      <td>0.845455</td>\n",
       "    </tr>\n",
       "    <tr>\n",
       "      <td>50</td>\n",
       "      <td>0.209220</td>\n",
       "      <td>0.843939</td>\n",
       "    </tr>\n",
       "    <tr>\n",
       "      <td>11</td>\n",
       "      <td>0.785568</td>\n",
       "      <td>0.821212</td>\n",
       "    </tr>\n",
       "    <tr>\n",
       "      <td>10</td>\n",
       "      <td>0.786853</td>\n",
       "      <td>0.819697</td>\n",
       "    </tr>\n",
       "    <tr>\n",
       "      <td>9</td>\n",
       "      <td>0.788445</td>\n",
       "      <td>0.818182</td>\n",
       "    </tr>\n",
       "    <tr>\n",
       "      <td>8</td>\n",
       "      <td>0.789192</td>\n",
       "      <td>0.816667</td>\n",
       "    </tr>\n",
       "    <tr>\n",
       "      <td>7</td>\n",
       "      <td>0.798942</td>\n",
       "      <td>0.806061</td>\n",
       "    </tr>\n",
       "    <tr>\n",
       "      <td>6</td>\n",
       "      <td>0.801756</td>\n",
       "      <td>0.804545</td>\n",
       "    </tr>\n",
       "    <tr>\n",
       "      <td>5</td>\n",
       "      <td>0.812850</td>\n",
       "      <td>0.783333</td>\n",
       "    </tr>\n",
       "    <tr>\n",
       "      <td>4</td>\n",
       "      <td>0.813378</td>\n",
       "      <td>0.781818</td>\n",
       "    </tr>\n",
       "    <tr>\n",
       "      <td>51</td>\n",
       "      <td>0.122648</td>\n",
       "      <td>0.663636</td>\n",
       "    </tr>\n",
       "    <tr>\n",
       "      <td>52</td>\n",
       "      <td>0.122496</td>\n",
       "      <td>0.662121</td>\n",
       "    </tr>\n",
       "    <tr>\n",
       "      <td>3</td>\n",
       "      <td>0.905374</td>\n",
       "      <td>0.515152</td>\n",
       "    </tr>\n",
       "    <tr>\n",
       "      <td>2</td>\n",
       "      <td>0.905419</td>\n",
       "      <td>0.513636</td>\n",
       "    </tr>\n",
       "    <tr>\n",
       "      <td>0</td>\n",
       "      <td>1.912731</td>\n",
       "      <td>0.506061</td>\n",
       "    </tr>\n",
       "    <tr>\n",
       "      <td>1</td>\n",
       "      <td>0.912731</td>\n",
       "      <td>0.506061</td>\n",
       "    </tr>\n",
       "    <tr>\n",
       "      <td>53</td>\n",
       "      <td>0.102767</td>\n",
       "      <td>0.495455</td>\n",
       "    </tr>\n",
       "  </tbody>\n",
       "</table>\n",
       "</div>"
      ],
      "text/plain": [
       "    Tresholds  Accuracy\n",
       "41   0.434965  0.960606\n",
       "40   0.439934  0.960606\n",
       "42   0.430967  0.959091\n",
       "39   0.473942  0.959091\n",
       "37   0.490973  0.959091\n",
       "35   0.533078  0.959091\n",
       "36   0.528798  0.957576\n",
       "38   0.479641  0.957576\n",
       "34   0.539797  0.957576\n",
       "33   0.544698  0.957576\n",
       "31   0.561476  0.956061\n",
       "32   0.549822  0.956061\n",
       "30   0.564405  0.954545\n",
       "29   0.576547  0.950000\n",
       "28   0.579239  0.948485\n",
       "27   0.584858  0.948485\n",
       "26   0.588356  0.946970\n",
       "43   0.358443  0.943939\n",
       "23   0.618813  0.942424\n",
       "44   0.355934  0.942424\n",
       "25   0.615076  0.942424\n",
       "21   0.640734  0.940909\n",
       "24   0.615800  0.940909\n",
       "22   0.626817  0.940909\n",
       "20   0.658079  0.939394\n",
       "19   0.662723  0.939394\n",
       "18   0.669894  0.937879\n",
       "17   0.672746  0.936364\n",
       "16   0.672968  0.934848\n",
       "15   0.699877  0.918182\n",
       "14   0.701690  0.916667\n",
       "13   0.718501  0.906061\n",
       "12   0.718555  0.904545\n",
       "45   0.245410  0.887879\n",
       "46   0.243520  0.886364\n",
       "47   0.218210  0.857576\n",
       "48   0.216934  0.856061\n",
       "49   0.211210  0.845455\n",
       "50   0.209220  0.843939\n",
       "11   0.785568  0.821212\n",
       "10   0.786853  0.819697\n",
       "9    0.788445  0.818182\n",
       "8    0.789192  0.816667\n",
       "7    0.798942  0.806061\n",
       "6    0.801756  0.804545\n",
       "5    0.812850  0.783333\n",
       "4    0.813378  0.781818\n",
       "51   0.122648  0.663636\n",
       "52   0.122496  0.662121\n",
       "3    0.905374  0.515152\n",
       "2    0.905419  0.513636\n",
       "0    1.912731  0.506061\n",
       "1    0.912731  0.506061\n",
       "53   0.102767  0.495455"
      ]
     },
     "execution_count": 46,
     "metadata": {},
     "output_type": "execute_result"
    }
   ],
   "source": [
    "accuracy_ls"
   ]
  },
  {
   "cell_type": "code",
   "execution_count": 47,
   "metadata": {},
   "outputs": [],
   "source": [
    "def plot_roc_curve(fpr,tpr):\n",
    "    plt.plot(fpr, tpr , color = \"orange\", label = \"ROC\")\n",
    "    plt.plot([0,1],[0,1], color = \"darkblue\", linestyle=\"--\")\n",
    "    plt.xlabel(\"False Positive Rate\")\n",
    "    plt.ylabel(\"True Positive Rate\")\n",
    "    plt.title(\"Receiver Operating Characteristic (ROC) Curve\")\n",
    "    plt.legend()\n",
    "    plt.show()"
   ]
  },
  {
   "cell_type": "code",
   "execution_count": 48,
   "metadata": {},
   "outputs": [
    {
     "data": {
      "image/png": "[encoded data removed]",
      "text/plain": [
       "<Figure size 432x288 with 1 Axes>"
      ]
     },
     "metadata": {
      "needs_background": "light"
     },
     "output_type": "display_data"
    }
   ],
   "source": [
    "plot_roc_curve(fpr,tpr)"
   ]
  }
 ],
 "metadata": {
  "kernelspec": {
   "display_name": "Python 3",
   "language": "python",
   "name": "python3"
  },
  "language_info": {
   "codemirror_mode": {
    "name": "ipython",
    "version": 3
   },
   "file_extension": ".py",
   "mimetype": "text/x-python",
   "name": "python",
   "nbconvert_exporter": "python",
   "pygments_lexer": "ipython3",
   "version": "3.7.4"
  }
 },
 "nbformat": 4,
 "nbformat_minor": 2
}
